{
 "cells": [
  {
   "cell_type": "markdown",
   "id": "59a58657-e12a-477a-bacb-05a1a7d49ffc",
   "metadata": {},
   "source": [
    "Q1) A company conducted a survey of its employees and found that 70% of the employees use the\n",
    "company's health insurance plan, while 40% of the employees who use the plan are smokers. What is the\n",
    "probability that an employee is a smoker given that he/she uses the health insurance plan?"
   ]
  },
  {
   "cell_type": "code",
   "execution_count": null,
   "id": "28559cee-d6d7-4394-b1ca-433267197f82",
   "metadata": {},
   "outputs": [],
   "source": [
    "We can solve this problem using Bayes' theorem. Let S be the event that an employee is a smoker, and H be the event that an\n",
    "employee uses the health insurance plan. We want to find the conditional probability P(S|H), i.e., the probability that an \n",
    "employee is a smoker given that he/she uses the health insurance plan.\n",
    "\n",
    "From the information given in the problem, we know:\n",
    "    \n",
    "P(H) = 0.7, since 70% of the employees use the health insurance plan.\n",
    "\n",
    "P(S|H) = 0.4, since 40% of the employees who use the health insurance plan are smokers.\n",
    "\n",
    "Missing Information : Total percentage of smokers in organisation is not given\n",
    "\n",
    "Assuming total number of smokers in the organisation to be 35%\n",
    "\n",
    "P(S) = 0.35\n",
    "\n",
    "Finding Probability that an employee is a smoker given that he/she uses the health insurance plan\n",
    "\n",
    "P(H|S) = P(S|H)*P(H)/P(S)\n",
    "\n",
    "P(H|S) = 0.4*0.7/0.35\n",
    "\n",
    "P(H|S) = 0.8\n",
    "\n",
    "Hence Probability that an employee is smoker given that he/she uses health insurance plan is 80%"
   ]
  },
  {
   "cell_type": "markdown",
   "id": "1fd36922-6711-427b-a578-5119b589b434",
   "metadata": {},
   "source": [
    "Q2) What is the difference between Bernoulli Naive Bayes and Multinomial Naive Bayes?"
   ]
  },
  {
   "cell_type": "code",
   "execution_count": null,
   "id": "0881719f-3bd7-4751-8665-6158d654c8fa",
   "metadata": {},
   "outputs": [],
   "source": [
    "Bernoulli Naive Bayes and Multinomial Naive Bayes are two variants of the Naive Bayes algorithm, which is a probabilistic\n",
    "classification algorithm that is widely used in natural language processing, text mining, and other machine learning\n",
    "applications. Below are difference between Bernoullin and Multinomial Naive Bayes :\n",
    "    \n",
    "      Bernoulli Naive Bayes\t                                         Multinomial Naive Bayes\n",
    "    \n",
    "      Assumes binary input data                                      Assumes count input data\n",
    "        \n",
    "      Represents each document as a binary vector\t                 Represents each document as a count vector\n",
    "    \n",
    "      Calculates likelihood probabilities \t                         Calculates likelihood probabilities based on frequency \n",
    "      based on presence/absence of features                           of features\n",
    "            \n",
    "     Suitable for problems focused on the presence or                 suitable for problems focused on the frequncy of\n",
    "     absence of features\t                                          features"
   ]
  },
  {
   "cell_type": "markdown",
   "id": "6fd0dd84-cb6a-4cae-826d-53d529c32a8d",
   "metadata": {},
   "source": [
    "Q3) How does Bernoulli Naive Bayes handle missing values?"
   ]
  },
  {
   "cell_type": "code",
   "execution_count": null,
   "id": "e47555f0-ef74-448a-9230-6620e4c79e18",
   "metadata": {},
   "outputs": [],
   "source": [
    "In Bernoulli Naive Bayes, missing data is typically handled by assigning a special value to indicate the absence of a feature.\n",
    "This value is often denoted as \"0\" and is used to represent the absence of a feature in a document.\n",
    "\n",
    "During training, the algorithm learns the probabilities of each feature appearing in each class based on the available data.\n",
    "When a feature is missing from a document during classification, it is assumed to have the same probability of appearing in \n",
    "that class as it does in the training data.\n",
    "\n",
    "Let's say we are classifying movie reviews as positive or negative based on the presence of certain words, and we have trained\n",
    "a Bernoulli Naive Bayes model on a dataset of labeled reviews. During training, we see that the word \"superb\" appears in 80% of\n",
    "positive reviews and in 5% of negative reviews. Based on this, the model learns to associate the presence of \"superb\" with the \n",
    "positive class.\n",
    "\n",
    "Now, suppose we are given a new review that does not contain the word \"superb\". In this case, the model assumes that the \n",
    "probability of \"superb\" appearing in this review is 0, and calculates the probability of the review belonging to each class\n",
    "based on the other features that are present."
   ]
  },
  {
   "cell_type": "markdown",
   "id": "137df057-46b9-4065-b420-f90b79c43c86",
   "metadata": {},
   "source": [
    "Q4) Can Gaussian Naive Bayes be used for multi-class classification?"
   ]
  },
  {
   "cell_type": "code",
   "execution_count": null,
   "id": "0540a5be-208e-42f1-b101-bc32e7adb9d8",
   "metadata": {},
   "outputs": [],
   "source": [
    "Yes, Gaussian Naive Bayes can be used for multi-class classification problems. In this case, the algorithm extends the binary\n",
    "Gaussian Naive Bayes classifier to the multi-class setting by using the \"one-vs-all\" (OvA) approach.\n",
    "\n",
    "In the OvA approach, the multi-class problem is divided into multiple binary classification problems, with each class compared\n",
    "against all other classes. For example, if we have a problem with three classes (A, B, and C), we would train three binary \n",
    "classifiers: one to distinguish A from B and C, one to distinguish B from A and C, and one to distinguish C from A and B.\n",
    "\n",
    "During classification, the algorithm calculates the probability of each document belonging to each class using the \n",
    "corresponding binary classifier. The document is assigned to the class with the highest probability.\n",
    "\n",
    "In Gaussian Naive Bayes, the likelihood probability is modeled using a Gaussian distribution for each feature in each class.\n",
    "The algorithm estimates the mean and variance of each feature in each class based on the training data. During classification,\n",
    "the algorithm calculates the probability of each document belonging to each class using the Gaussian distribution parameters \n",
    "for that class.\n",
    "\n",
    "Overall, Gaussian Naive Bayes can be a useful algorithm for multi-class classification problems when the features are\n",
    "continuous and can be modeled using a Gaussian distribution. However, it is important to note that it makes certain assumptions\n",
    "about the data (such as independence of features) that may not always hold in practice."
   ]
  },
  {
   "cell_type": "markdown",
   "id": "b047f702-f4c6-458f-a6bd-1f2103df6ee3",
   "metadata": {},
   "source": [
    "Q5. Assignment:"
   ]
  },
  {
   "cell_type": "markdown",
   "id": "9a41a4b4-fb5f-481a-bc07-5ab16d181d39",
   "metadata": {},
   "source": [
    "Data preparation:\n",
    "\n",
    "Download the \"Spambase Data Set\" from the UCI Machine Learning Repository (https://archive.ics.uci.edu/ml/\n",
    "datasets/Spambase). This dataset contains email messages, where the goal is to predict whether a message\n",
    "is spam or not based on several input features.\n",
    "\n",
    "Implementation:\n",
    "\n",
    "Implement Bernoulli Naive Bayes, Multinomial Naive Bayes, and Gaussian Naive Bayes classifiers using the\n",
    "scikit-learn library in Python. Use 10-fold cross-validation to evaluate the performance of each classifier on the\n",
    "dataset. You should use the default hyperparameters for each classifier.\n",
    "\n",
    "Results:\n",
    "\n",
    "Report the following performance metrics for each classifier:\n",
    "Accuracy\n",
    "Precision\n",
    "Recall\n",
    "F1 score\n",
    "\n",
    "Discussion:\n",
    "\n",
    "Discuss the results you obtained. Which variant of Naive Bayes performed the best? Why do you think that is\n",
    "the case? Are there any limitations of Naive Bayes that you observed?\n",
    "Conclusion:\n",
    "\n",
    "Summarise your findings and provide some suggestions for future work.\n",
    "\n",
    "Note: This dataset contains a binary classification problem with multiple features. The dataset is\n",
    "relatively small, but it can be used to demonstrate the performance of the different variants of Naive\n",
    "Bayes on a real-world problem.\n",
    "\n"
   ]
  },
  {
   "cell_type": "code",
   "execution_count": null,
   "id": "9d5271ef-9ab3-44dd-8624-4b84b744276c",
   "metadata": {},
   "outputs": [],
   "source": [
    "Data preparation:\n",
    "    \n",
    "Download the \"Spambase Data Set\" from the UCI Machine Learning Repository https://archive.ics.uci.edu/ml/datasets/Spambase.\n",
    "This dataset contains email messages, where the goal is to predict whether a message is spam or not based on several input \n",
    "features."
   ]
  },
  {
   "cell_type": "code",
   "execution_count": 2,
   "id": "66269423-922a-465b-815f-c23ac2f061bf",
   "metadata": {},
   "outputs": [
    {
     "ename": "FileNotFoundError",
     "evalue": "[Errno 2] No such file or directory: './spambase/spambase.names'",
     "output_type": "error",
     "traceback": [
      "\u001b[0;31m---------------------------------------------------------------------------\u001b[0m",
      "\u001b[0;31mFileNotFoundError\u001b[0m                         Traceback (most recent call last)",
      "Cell \u001b[0;32mIn[2], line 1\u001b[0m\n\u001b[0;32m----> 1\u001b[0m \u001b[38;5;28;01mwith\u001b[39;00m \u001b[38;5;28;43mopen\u001b[39;49m\u001b[43m(\u001b[49m\u001b[38;5;124;43m'\u001b[39;49m\u001b[38;5;124;43m./spambase/spambase.names\u001b[39;49m\u001b[38;5;124;43m'\u001b[39;49m\u001b[43m,\u001b[49m\u001b[38;5;124;43m'\u001b[39;49m\u001b[38;5;124;43mr\u001b[39;49m\u001b[38;5;124;43m'\u001b[39;49m\u001b[43m)\u001b[49m \u001b[38;5;28;01mas\u001b[39;00m f:\n\u001b[1;32m      2\u001b[0m     a \u001b[38;5;241m=\u001b[39m f\u001b[38;5;241m.\u001b[39mread()\n",
      "File \u001b[0;32m/opt/conda/lib/python3.10/site-packages/IPython/core/interactiveshell.py:282\u001b[0m, in \u001b[0;36m_modified_open\u001b[0;34m(file, *args, **kwargs)\u001b[0m\n\u001b[1;32m    275\u001b[0m \u001b[38;5;28;01mif\u001b[39;00m file \u001b[38;5;129;01min\u001b[39;00m {\u001b[38;5;241m0\u001b[39m, \u001b[38;5;241m1\u001b[39m, \u001b[38;5;241m2\u001b[39m}:\n\u001b[1;32m    276\u001b[0m     \u001b[38;5;28;01mraise\u001b[39;00m \u001b[38;5;167;01mValueError\u001b[39;00m(\n\u001b[1;32m    277\u001b[0m         \u001b[38;5;124mf\u001b[39m\u001b[38;5;124m\"\u001b[39m\u001b[38;5;124mIPython won\u001b[39m\u001b[38;5;124m'\u001b[39m\u001b[38;5;124mt let you open fd=\u001b[39m\u001b[38;5;132;01m{\u001b[39;00mfile\u001b[38;5;132;01m}\u001b[39;00m\u001b[38;5;124m by default \u001b[39m\u001b[38;5;124m\"\u001b[39m\n\u001b[1;32m    278\u001b[0m         \u001b[38;5;124m\"\u001b[39m\u001b[38;5;124mas it is likely to crash IPython. If you know what you are doing, \u001b[39m\u001b[38;5;124m\"\u001b[39m\n\u001b[1;32m    279\u001b[0m         \u001b[38;5;124m\"\u001b[39m\u001b[38;5;124myou can use builtins\u001b[39m\u001b[38;5;124m'\u001b[39m\u001b[38;5;124m open.\u001b[39m\u001b[38;5;124m\"\u001b[39m\n\u001b[1;32m    280\u001b[0m     )\n\u001b[0;32m--> 282\u001b[0m \u001b[38;5;28;01mreturn\u001b[39;00m \u001b[43mio_open\u001b[49m\u001b[43m(\u001b[49m\u001b[43mfile\u001b[49m\u001b[43m,\u001b[49m\u001b[43m \u001b[49m\u001b[38;5;241;43m*\u001b[39;49m\u001b[43margs\u001b[49m\u001b[43m,\u001b[49m\u001b[43m \u001b[49m\u001b[38;5;241;43m*\u001b[39;49m\u001b[38;5;241;43m*\u001b[39;49m\u001b[43mkwargs\u001b[49m\u001b[43m)\u001b[49m\n",
      "\u001b[0;31mFileNotFoundError\u001b[0m: [Errno 2] No such file or directory: './spambase/spambase.names'"
     ]
    }
   ],
   "source": [
    "with open('./spambase/spambase.names','r') as f:\n",
    "    a = f.read()"
   ]
  },
  {
   "cell_type": "code",
   "execution_count": null,
   "id": "1deb5495-8172-469d-866b-b7d88ca8336b",
   "metadata": {},
   "outputs": [],
   "source": []
  }
 ],
 "metadata": {
  "kernelspec": {
   "display_name": "Python 3 (ipykernel)",
   "language": "python",
   "name": "python3"
  },
  "language_info": {
   "codemirror_mode": {
    "name": "ipython",
    "version": 3
   },
   "file_extension": ".py",
   "mimetype": "text/x-python",
   "name": "python",
   "nbconvert_exporter": "python",
   "pygments_lexer": "ipython3",
   "version": "3.10.8"
  }
 },
 "nbformat": 4,
 "nbformat_minor": 5
}
